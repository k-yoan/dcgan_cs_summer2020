{
  "nbformat": 4,
  "nbformat_minor": 0,
  "metadata": {
    "accelerator": "GPU",
    "colab": {
      "provenance": [],
      "private_outputs": true
    },
    "kernelspec": {
      "display_name": "Python 3",
      "name": "python3"
    }
  },
  "cells": [
    {
      "cell_type": "markdown",
      "metadata": {
        "id": "rF2x3qooyBTI"
      },
      "source": [
        "# Deep Convolutional Generative Adversarial Network"
      ]
    },
    {
      "cell_type": "markdown",
      "source": [
        "The first section of this notebook uses code from the following Tensorflow DCGAN tutorial:\n",
        "https://www.tensorflow.org/tutorials/generative/dcgan?hl=en"
      ],
      "metadata": {
        "id": "_jBfw5xVBvIH"
      }
    },
    {
      "cell_type": "markdown",
      "metadata": {
        "id": "e1_Y75QXJS6h"
      },
      "source": [
        "### Import TensorFlow and other libraries"
      ]
    },
    {
      "cell_type": "code",
      "metadata": {
        "id": "WZKbyU2-AiY-"
      },
      "source": [
        "import tensorflow as tf"
      ],
      "execution_count": null,
      "outputs": []
    },
    {
      "cell_type": "code",
      "metadata": {
        "id": "wx-zNbLqB4K8"
      },
      "source": [
        "tf.__version__"
      ],
      "execution_count": null,
      "outputs": []
    },
    {
      "cell_type": "code",
      "metadata": {
        "id": "YzTlj4YdCip_"
      },
      "source": [
        "# To generate GIFs\n",
        "!pip install imageio"
      ],
      "execution_count": null,
      "outputs": []
    },
    {
      "cell_type": "code",
      "metadata": {
        "id": "YfIk2es3hJEd"
      },
      "source": [
        "import glob\n",
        "import imageio\n",
        "import matplotlib.pyplot as plt\n",
        "import numpy as np\n",
        "import os\n",
        "import PIL\n",
        "from tensorflow.keras import layers\n",
        "import time\n",
        "\n",
        "import random\n",
        "\n",
        "from IPython import display"
      ],
      "execution_count": null,
      "outputs": []
    },
    {
      "cell_type": "markdown",
      "metadata": {
        "id": "iYn4MdZnKCey"
      },
      "source": [
        "### Load and prepare the dataset\n",
        "\n",
        "You will use the MNIST dataset to train the generator and the discriminator. The generator will generate handwritten digits resembling the MNIST data."
      ]
    },
    {
      "cell_type": "code",
      "metadata": {
        "id": "a4fYMGxGhrna"
      },
      "source": [
        "(train_images, train_labels), (test_images, test_labels) = tf.keras.datasets.mnist.load_data()"
      ],
      "execution_count": null,
      "outputs": []
    },
    {
      "cell_type": "code",
      "metadata": {
        "id": "NFC2ghIdiZYE"
      },
      "source": [
        "train_images = train_images.reshape(train_images.shape[0], 28, 28, 1).astype('float32')\n",
        "train_images = (train_images - 127.5) / 127.5 # Normalize the images to [-1, 1]\n",
        "\n",
        "test_images = test_images.reshape(test_images.shape[0], 28, 28, 1).astype('float32')\n",
        "test_images = (test_images - 127.5) / 127.5"
      ],
      "execution_count": null,
      "outputs": []
    },
    {
      "cell_type": "code",
      "metadata": {
        "id": "S4PIDhoDLbsZ"
      },
      "source": [
        "BUFFER_SIZE = 60000\n",
        "BATCH_SIZE = 256"
      ],
      "execution_count": null,
      "outputs": []
    },
    {
      "cell_type": "code",
      "metadata": {
        "id": "-yKCCQOoJ7cn"
      },
      "source": [
        "# Batch and shuffle the data\n",
        "train_dataset = tf.data.Dataset.from_tensor_slices(train_images).shuffle(BUFFER_SIZE).batch(BATCH_SIZE)"
      ],
      "execution_count": null,
      "outputs": []
    },
    {
      "cell_type": "code",
      "metadata": {
        "id": "w2DXPFyeFge_"
      },
      "source": [
        "print(test_labels[:100])\n",
        "print(test_images.shape)\n",
        "print(test_labels.shape)"
      ],
      "execution_count": null,
      "outputs": []
    },
    {
      "cell_type": "markdown",
      "metadata": {
        "id": "-tEyxE-GMC48"
      },
      "source": [
        "### The Generator\n",
        "\n"
      ]
    },
    {
      "cell_type": "code",
      "metadata": {
        "id": "6bpTcDqoLWjY"
      },
      "source": [
        "def make_generator_model():\n",
        "    model = tf.keras.Sequential()\n",
        "    model.add(layers.Dense(7*7*256, use_bias=False, input_shape=(100,)))\n",
        "    model.add(layers.BatchNormalization())\n",
        "    model.add(layers.LeakyReLU())\n",
        "\n",
        "    model.add(layers.Reshape((7, 7, 256)))\n",
        "    assert model.output_shape == (None, 7, 7, 256) # Note: None is the batch size\n",
        "\n",
        "    model.add(layers.Conv2DTranspose(128, (5, 5), strides=(1, 1), padding='same', use_bias=False))\n",
        "    assert model.output_shape == (None, 7, 7, 128)\n",
        "    model.add(layers.BatchNormalization())\n",
        "    model.add(layers.LeakyReLU())\n",
        "\n",
        "    model.add(layers.Conv2DTranspose(64, (5, 5), strides=(2, 2), padding='same', use_bias=False))\n",
        "    assert model.output_shape == (None, 14, 14, 64)\n",
        "    model.add(layers.BatchNormalization())\n",
        "    model.add(layers.LeakyReLU())\n",
        "\n",
        "    model.add(layers.Conv2DTranspose(1, (5, 5), strides=(2, 2), padding='same', use_bias=False, activation='tanh'))\n",
        "    assert model.output_shape == (None, 28, 28, 1)\n",
        "\n",
        "    return model"
      ],
      "execution_count": null,
      "outputs": []
    },
    {
      "cell_type": "code",
      "source": [
        "generator = make_generator_model()"
      ],
      "metadata": {
        "id": "iJNHteejAvhe"
      },
      "execution_count": null,
      "outputs": []
    },
    {
      "cell_type": "markdown",
      "metadata": {
        "id": "D0IKnaCtg6WE"
      },
      "source": [
        "### The Discriminator\n"
      ]
    },
    {
      "cell_type": "code",
      "metadata": {
        "id": "dw2tPLmk2pEP"
      },
      "source": [
        "def make_discriminator_model():\n",
        "    model = tf.keras.Sequential()\n",
        "    model.add(layers.Conv2D(64, (5, 5), strides=(2, 2), padding='same',\n",
        "                                     input_shape=[28, 28, 1]))\n",
        "    model.add(layers.LeakyReLU())\n",
        "    model.add(layers.Dropout(0.3))\n",
        "\n",
        "    model.add(layers.Conv2D(128, (5, 5), strides=(2, 2), padding='same'))\n",
        "    model.add(layers.LeakyReLU())\n",
        "    model.add(layers.Dropout(0.3))\n",
        "\n",
        "    model.add(layers.Flatten())\n",
        "    model.add(layers.Dense(1))\n",
        "\n",
        "    return model"
      ],
      "execution_count": null,
      "outputs": []
    },
    {
      "cell_type": "code",
      "source": [
        "discriminator = make_discriminator_model()"
      ],
      "metadata": {
        "id": "UiCVkeG4Ay13"
      },
      "execution_count": null,
      "outputs": []
    },
    {
      "cell_type": "markdown",
      "metadata": {
        "id": "0FMYgY_mPfTi"
      },
      "source": [
        "## Define the loss and optimizers\n",
        "\n"
      ]
    },
    {
      "cell_type": "code",
      "metadata": {
        "id": "psQfmXxYKU3X"
      },
      "source": [
        "# This method returns a helper function to compute cross entropy loss\n",
        "cross_entropy = tf.keras.losses.BinaryCrossentropy(from_logits=True)"
      ],
      "execution_count": null,
      "outputs": []
    },
    {
      "cell_type": "markdown",
      "metadata": {
        "id": "PKY_iPSPNWoj"
      },
      "source": [
        "### Discriminator loss\n"
      ]
    },
    {
      "cell_type": "code",
      "metadata": {
        "id": "wkMNfBWlT-PV"
      },
      "source": [
        "def discriminator_loss(real_output, fake_output):\n",
        "    real_loss = cross_entropy(tf.ones_like(real_output), real_output)\n",
        "    fake_loss = cross_entropy(tf.zeros_like(fake_output), fake_output)\n",
        "    total_loss = real_loss + fake_loss\n",
        "    return total_loss"
      ],
      "execution_count": null,
      "outputs": []
    },
    {
      "cell_type": "markdown",
      "metadata": {
        "id": "Jd-3GCUEiKtv"
      },
      "source": [
        "### Generator loss\n"
      ]
    },
    {
      "cell_type": "code",
      "metadata": {
        "id": "90BIcCKcDMxz"
      },
      "source": [
        "def generator_loss(fake_output):\n",
        "    return cross_entropy(tf.ones_like(fake_output), fake_output)"
      ],
      "execution_count": null,
      "outputs": []
    },
    {
      "cell_type": "code",
      "metadata": {
        "id": "iWCn_PVdEJZ7"
      },
      "source": [
        "generator_optimizer = tf.keras.optimizers.Adam(1e-4)\n",
        "discriminator_optimizer = tf.keras.optimizers.Adam(1e-4)"
      ],
      "execution_count": null,
      "outputs": []
    },
    {
      "cell_type": "markdown",
      "metadata": {
        "id": "mWtinsGDPJlV"
      },
      "source": [
        "### Save checkpoints\n"
      ]
    },
    {
      "cell_type": "code",
      "metadata": {
        "id": "CA1w-7s2POEy"
      },
      "source": [
        "checkpoint_dir = './training_checkpoints'\n",
        "checkpoint_prefix = os.path.join(checkpoint_dir, \"ckpt\")\n",
        "checkpoint = tf.train.Checkpoint(generator_optimizer=generator_optimizer,\n",
        "                                 discriminator_optimizer=discriminator_optimizer,\n",
        "                                 generator=generator,\n",
        "                                 discriminator=discriminator)"
      ],
      "execution_count": null,
      "outputs": []
    },
    {
      "cell_type": "markdown",
      "metadata": {
        "id": "Rw1fkAczTQYh"
      },
      "source": [
        "## Define the training loop\n"
      ]
    },
    {
      "cell_type": "code",
      "metadata": {
        "id": "NS2GWywBbAWo"
      },
      "source": [
        "EPOCHS = 200\n",
        "noise_dim = 100\n",
        "num_examples_to_generate = 16\n",
        "\n",
        "# We will reuse this seed overtime (so it's easier)\n",
        "# to visualize progress in the animated GIF)\n",
        "'''Modified : the seed is sparse'''\n",
        "#seed_0 = tf.random.normal([num_examples_to_generate, noise_dim])\n",
        "seed_0 = np.load('seed_a.npy')\n",
        "s = 10\n",
        "perm_list = np.array([np.random.permutation(seed_0.shape[1]) for i in range(seed_0.shape[0])])\n",
        "supp = np.array([perm_list[i][:s] for i in range(perm_list.shape[0])])\n",
        "\n",
        "seed = np.array([[seed_0[j,i]*(i in supp[j,:]) for i in range(noise_dim)] for j in range(seed_0.shape[0])], dtype=float)"
      ],
      "execution_count": null,
      "outputs": []
    },
    {
      "cell_type": "code",
      "metadata": {
        "id": "3t5ibNo05jCB"
      },
      "source": [
        "# Notice the use of `tf.function`\n",
        "# This annotation causes the function to be \"compiled\".\n",
        "@tf.function\n",
        "def train_step(images):\n",
        "    noise = tf.random.normal([BATCH_SIZE, noise_dim])\n",
        "\n",
        "    with tf.GradientTape() as gen_tape, tf.GradientTape() as disc_tape:\n",
        "      generated_images = generator(noise, training=True)\n",
        "\n",
        "      real_output = discriminator(images, training=True)\n",
        "      fake_output = discriminator(generated_images, training=True)\n",
        "\n",
        "      gen_loss = generator_loss(fake_output)\n",
        "      disc_loss = discriminator_loss(real_output, fake_output)\n",
        "\n",
        "    gradients_of_generator = gen_tape.gradient(gen_loss, generator.trainable_variables)\n",
        "    gradients_of_discriminator = disc_tape.gradient(disc_loss, discriminator.trainable_variables)\n",
        "\n",
        "    generator_optimizer.apply_gradients(zip(gradients_of_generator, generator.trainable_variables))\n",
        "    discriminator_optimizer.apply_gradients(zip(gradients_of_discriminator, discriminator.trainable_variables))"
      ],
      "execution_count": null,
      "outputs": []
    },
    {
      "cell_type": "code",
      "metadata": {
        "id": "2M7LmLtGEMQJ",
        "cellView": "form"
      },
      "source": [
        "#@title Original train function\n",
        "def train(dataset, epochs):\n",
        "  for epoch in range(epochs):\n",
        "    start = time.time()\n",
        "\n",
        "    for image_batch in dataset:\n",
        "      train_step(image_batch)\n",
        "\n",
        "    # Produce images for the GIF as we go\n",
        "    display.clear_output(wait=True)\n",
        "    generate_and_save_images(generator,\n",
        "                             epoch + 1,\n",
        "                             seed)\n",
        "\n",
        "    # Save the model every 15 epochs\n",
        "    if (epoch + 1) % 15 == 0:\n",
        "      checkpoint.save(file_prefix = checkpoint_prefix)\n",
        "\n",
        "    print ('Time for epoch {} is {} sec'.format(epoch + 1, time.time()-start))\n",
        "\n",
        "  # Generate after the final epoch\n",
        "  display.clear_output(wait=True)\n",
        "  generate_and_save_images(generator,\n",
        "                           epochs,\n",
        "                           seed)"
      ],
      "execution_count": null,
      "outputs": []
    },
    {
      "cell_type": "markdown",
      "metadata": {
        "id": "2aFF7Hk3XdeW"
      },
      "source": [
        "**Generate and save images**\n"
      ]
    },
    {
      "cell_type": "code",
      "metadata": {
        "id": "RmdVsmvhPxyy",
        "cellView": "form"
      },
      "source": [
        "#@title Original generate_images function\n",
        "def generate_and_save_images(model, epoch, test_input):\n",
        "  # Notice `training` is set to False.\n",
        "  # This is so all layers run in inference mode (batchnorm).\n",
        "  predictions = model(test_input, training=False)\n",
        "\n",
        "  fig = plt.figure(figsize=(4,4))\n",
        "\n",
        "  for i in range(predictions.shape[0]): # The range is 16 (number of generated images in GIF)\n",
        "      plt.subplot(4, 4, i+1) # 4 rows, 4 columns, Index i+1\n",
        "      plt.imshow(predictions[i, :, :, 0] * 127.5 + 127.5, cmap='gray')\n",
        "      plt.axis('off')\n",
        "\n",
        "  plt.savefig('image_at_epoch_{:04d}.png'.format(epoch))\n",
        "  plt.show()\n"
      ],
      "execution_count": null,
      "outputs": []
    },
    {
      "cell_type": "code",
      "metadata": {
        "id": "3G5ptuZDu_1D",
        "cellView": "form"
      },
      "source": [
        "#@title Modifications #1\n",
        "'''Run this cell instead of the two previous cells to apply modifications'''\n",
        "\n",
        "class Training:\n",
        "  def train(self, dataset, epochs):\n",
        "    dist_for_plot = np.array([])\n",
        "    for epoch in range(epochs):\n",
        "      start = time.time()\n",
        "\n",
        "      for image_batch in dataset:\n",
        "        train_step(image_batch)\n",
        "\n",
        "      # Produce images for the GIF as we go\n",
        "      display.clear_output(wait=True)\n",
        "      self.generate_and_save_images(generator,\n",
        "                              epoch + 1,\n",
        "                              seed)\n",
        "\n",
        "      # Save the model every 10 epochs\n",
        "      if (epoch + 1) % 10 == 0:\n",
        "        checkpoint.save(file_prefix = checkpoint_prefix)\n",
        "\n",
        "      print ('Time for epoch {} is {} sec'.format(epoch + 1, time.time()-start))\n",
        "\n",
        "      # Store the mean minimum distance for each epoch\n",
        "      dist_for_plot = np.append(dist_for_plot, self.mean_min_dist)\n",
        "\n",
        "    # Generate after the final epoch\n",
        "    display.clear_output(wait=True)\n",
        "    self.generate_and_save_images(generator,\n",
        "                            epochs,\n",
        "                            seed)\n",
        "\n",
        "    # Final plot\n",
        "    plt.plot(range(epochs), dist_for_plot)\n",
        "\n",
        "\n",
        "  def generate_and_save_images(self, model, epoch, test_input):\n",
        "    # Notice `training` is set to False.\n",
        "    # This is so all layers run in inference mode (batchnorm).\n",
        "    predictions = model(test_input, training=False)\n",
        "\n",
        "    fig = plt.figure(figsize=(4,4))\n",
        "\n",
        "    for i in range(predictions.shape[0]): # The range is 16 (number of generated images in GIF)\n",
        "        plt.subplot(4, 4, i+1) # 4 rows, 4 columns, Index i+1\n",
        "        plt.imshow(predictions[i, :, :, 0] * 127.5 + 127.5, cmap='gray')\n",
        "        plt.axis('off')\n",
        "\n",
        "    plt.savefig('image_at_epoch_{:04d}.png'.format(epoch))\n",
        "    plt.show()\n",
        "\n",
        "    # Modifications\n",
        "    min_dist = np.array([], dtype=float)\n",
        "    for j in range(predictions.shape[0]):\n",
        "      dist = np.array([], dtype=float)\n",
        "      for k in range(test_images.shape[0]):\n",
        "        dist = np.append(dist, np.linalg.norm(predictions[j, :, :, 0] - test_images[k, :, :, 0]))\n",
        "      min_dist = np.append(min_dist, np.amin(dist)) # Storing the minimum distance in an array\n",
        "\n",
        "    self.mean_min_dist = np.mean(min_dist) # Use mean of 16 minimum distances to do 1 plot instead of 16"
      ],
      "execution_count": null,
      "outputs": []
    },
    {
      "cell_type": "code",
      "metadata": {
        "id": "U7Hr2kgif2gX",
        "cellView": "form"
      },
      "source": [
        "#@title Modifications #2\n",
        "'''Run this cell instead of the two previous cells to apply modifications'''\n",
        "\n",
        "class Training:\n",
        "  def train(self, dataset, epochs):\n",
        "    self.saved_predictions = np.array([], dtype=float)\n",
        "    for epoch in range(epochs):\n",
        "      start = time.time()\n",
        "\n",
        "      for image_batch in dataset:\n",
        "        train_step(image_batch)\n",
        "\n",
        "      # Produce images for the GIF as we go\n",
        "      display.clear_output(wait=True)\n",
        "      self.generate_and_save_images(generator,\n",
        "                              epoch + 1,\n",
        "                              seed)\n",
        "\n",
        "      # Save the model every 10 epochs\n",
        "      if (epoch + 1) % 10 == 0:\n",
        "        checkpoint.save(file_prefix = checkpoint_prefix)\n",
        "\n",
        "      print ('Time for epoch {} is {} sec'.format(epoch + 1, time.time()-start))\n",
        "\n",
        "    # Generate after the final epoch\n",
        "    display.clear_output(wait=True)\n",
        "    self.generate_and_save_images(generator,\n",
        "                            epochs,\n",
        "                            seed)\n",
        "\n",
        "\n",
        "  def generate_and_save_images(self, model, epoch, test_input):\n",
        "    # Notice `training` is set to False.\n",
        "    # This is so all layers run in inference mode (batchnorm).\n",
        "    predictions = model(test_input, training=False)\n",
        "    self.saved_predictions = np.append(self.saved_predictions, predictions)\n",
        "\n",
        "    fig = plt.figure(figsize=(4,4))\n",
        "\n",
        "    for i in range(predictions.shape[0]): # The range is 16 (number of generated images in GIF)\n",
        "        plt.subplot(4, 4, i+1) # 4 rows, 4 columns, Index i+1\n",
        "        plt.imshow(predictions[i, :, :, 0] * 127.5 + 127.5, cmap='gray')\n",
        "        plt.axis('off')\n",
        "\n",
        "    plt.savefig('image_at_epoch_{:04d}.png'.format(epoch))\n",
        "    plt.show()\n"
      ],
      "execution_count": null,
      "outputs": []
    },
    {
      "cell_type": "markdown",
      "metadata": {
        "id": "dZrd4CdjR-Fp"
      },
      "source": [
        "## Train the model\n"
      ]
    },
    {
      "cell_type": "code",
      "metadata": {
        "id": "Ly3UN0SLLY2l"
      },
      "source": [
        "train(train_dataset, EPOCHS)"
      ],
      "execution_count": null,
      "outputs": []
    },
    {
      "cell_type": "code",
      "metadata": {
        "id": "4aSQA4Aif4uX"
      },
      "source": [
        "'''Run the following cells to train with modifications'''\n",
        "t = Training()"
      ],
      "execution_count": null,
      "outputs": []
    },
    {
      "cell_type": "code",
      "metadata": {
        "id": "m5BVCREAeX_C"
      },
      "source": [
        "t.train(train_dataset, EPOCHS)"
      ],
      "execution_count": null,
      "outputs": []
    },
    {
      "cell_type": "code",
      "metadata": {
        "id": "XhXsd0srPo8c"
      },
      "source": [
        "# Restore the latest checkpoint.\n",
        "checkpoint.restore(tf.train.latest_checkpoint(checkpoint_dir))"
      ],
      "execution_count": null,
      "outputs": []
    },
    {
      "cell_type": "markdown",
      "metadata": {
        "id": "P4M_vIbUi7c0"
      },
      "source": [
        "## Create a GIF\n"
      ]
    },
    {
      "cell_type": "code",
      "metadata": {
        "id": "WfO5wCdclHGL"
      },
      "source": [
        "# Display a single image using the epoch number\n",
        "def display_image(epoch_no):\n",
        "  return PIL.Image.open('image_at_epoch_{:04d}.png'.format(epoch_no))"
      ],
      "execution_count": null,
      "outputs": []
    },
    {
      "cell_type": "code",
      "metadata": {
        "id": "5x3q9_Oe5q0A"
      },
      "source": [
        "display_image(EPOCHS)"
      ],
      "execution_count": null,
      "outputs": []
    },
    {
      "cell_type": "code",
      "metadata": {
        "id": "IGKQgENQ8lEI"
      },
      "source": [
        "anim_file = 'dcgan_sparse.gif'\n",
        "\n",
        "with imageio.get_writer(anim_file, mode='I') as writer:\n",
        "  filenames = glob.glob('image*.png')\n",
        "  filenames = sorted(filenames)\n",
        "  last = -1\n",
        "  for i,filename in enumerate(filenames):\n",
        "    frame = 2*(i**0.5)\n",
        "    if round(frame) > round(last):\n",
        "      last = frame\n",
        "    else:\n",
        "      continue\n",
        "    image = imageio.imread(filename)\n",
        "    writer.append_data(image)\n",
        "  image = imageio.imread(filename)\n",
        "  writer.append_data(image)\n",
        "\n",
        "import IPython\n",
        "if IPython.version_info > (6,2,0,''):\n",
        "  display.Image(filename=anim_file)"
      ],
      "execution_count": null,
      "outputs": []
    },
    {
      "cell_type": "markdown",
      "metadata": {
        "id": "cGhC3-fMWSwl"
      },
      "source": [
        "If you're working in Colab you can download the animation with the code below:"
      ]
    },
    {
      "cell_type": "code",
      "metadata": {
        "id": "uV0yiKpzNP1b"
      },
      "source": [
        "try:\n",
        "  from google.colab import files\n",
        "except ImportError:\n",
        "   pass\n",
        "else:\n",
        "  files.download(anim_file)\n",
        "  #files.download(checkpoint_dir)"
      ],
      "execution_count": null,
      "outputs": []
    },
    {
      "cell_type": "code",
      "metadata": {
        "id": "yqEOzAIt2yrH"
      },
      "source": [
        "!zip -r /content/file.zip /content/training_checkpoints/"
      ],
      "execution_count": null,
      "outputs": []
    },
    {
      "cell_type": "code",
      "metadata": {
        "id": "5LLo9Lpy27Ax"
      },
      "source": [
        "from google.colab import files\n",
        "files.download(\"/content/file.zip\")"
      ],
      "execution_count": null,
      "outputs": []
    },
    {
      "cell_type": "markdown",
      "metadata": {
        "id": "wwu-VN014xIk"
      },
      "source": [
        "# Further modifications for research project"
      ]
    },
    {
      "cell_type": "code",
      "metadata": {
        "id": "aLtkpEQmNJLE"
      },
      "source": [
        "print(t.saved_predictions.shape)"
      ],
      "execution_count": null,
      "outputs": []
    },
    {
      "cell_type": "code",
      "metadata": {
        "id": "qobVmeB3NtjQ"
      },
      "source": [
        "t.saved_predictions = t.saved_predictions.reshape((EPOCHS+1, num_examples_to_generate,28,28,1))\n",
        "print(t.saved_predictions.shape)"
      ],
      "execution_count": null,
      "outputs": []
    },
    {
      "cell_type": "markdown",
      "metadata": {
        "id": "OvBiZmBkKXMF"
      },
      "source": [
        "For each generated image, show the convergence every 5 epochs\n"
      ]
    },
    {
      "cell_type": "code",
      "metadata": {
        "id": "JuVsN6Dh7tje"
      },
      "source": [
        "min_dist = np.array([[]], dtype=float)\n",
        "labels = np.array([], dtype=int) # To get the labels of the minimizers\n",
        "index_min = np.array([], dtype=int) # To get the exact positions of the minimizers in the dataset\n",
        "for round in range(t.saved_predictions.shape[0] - 1):\n",
        "      if (round + 1) % 5 == 0:\n",
        "        for j in range(t.saved_predictions.shape[1]):\n",
        "          dist = np.array([], dtype=float)\n",
        "          for k in range(test_images.shape[0]):\n",
        "            dist = np.append(dist, np.linalg.norm(t.saved_predictions[round, j, :, :, 0] - test_images[k, :, :, 0]))\n",
        "          labels = np.append(labels, test_labels[np.argmin(dist)])\n",
        "          index_min = np.append(index_min, np.argmin(dist))\n",
        "          min_dist = np.append(min_dist, np.amin(dist))\n",
        "min_dist = min_dist.reshape((int(EPOCHS/5), num_examples_to_generate))"
      ],
      "execution_count": null,
      "outputs": []
    },
    {
      "cell_type": "code",
      "metadata": {
        "id": "qkSptF0fXuWL"
      },
      "source": [
        "np.save('sparse_predictions_a.npy', t.saved_predictions)\n",
        "np.save('sparse_seed_a.npy', seed)\n",
        "np.save('sparse_mindist_a.npy', min_dist)"
      ],
      "execution_count": null,
      "outputs": []
    },
    {
      "cell_type": "code",
      "metadata": {
        "id": "2oSjk1O0Kie4"
      },
      "source": [
        "plt.figure(figsize=(10,10))\n",
        "for i in range(t.saved_predictions.shape[1]):\n",
        "  plt.subplot(4, 4, i+1, ylim=(min(min_dist.flatten()),max(min_dist.flatten())))\n",
        "  plt.plot([5*i+5 for i in range(int(EPOCHS/5))], min_dist[:,i])\n",
        "plt.show()"
      ],
      "execution_count": null,
      "outputs": []
    },
    {
      "cell_type": "code",
      "metadata": {
        "id": "ppqzgOQoUxDq"
      },
      "source": [
        "labels = labels.reshape((int(EPOCHS/5),16))\n",
        "print(labels[-1,:]) # The numbers/labels to which the generated images are closest to\n",
        "display_image(EPOCHS)"
      ],
      "execution_count": null,
      "outputs": []
    },
    {
      "cell_type": "markdown",
      "metadata": {
        "id": "7wakoTu1K63S"
      },
      "source": [
        "Plot 4x4 grid of minimizers at final epoch"
      ]
    },
    {
      "cell_type": "code",
      "metadata": {
        "id": "uBXJf1s_IMWt"
      },
      "source": [
        "print(index_min)\n",
        "print(index_min.shape)"
      ],
      "execution_count": null,
      "outputs": []
    },
    {
      "cell_type": "code",
      "metadata": {
        "id": "twZFdhWqTK1C"
      },
      "source": [
        "index_min = index_min.reshape((int(EPOCHS/5),16))\n",
        "print(index_min[-1,:])"
      ],
      "execution_count": null,
      "outputs": []
    },
    {
      "cell_type": "code",
      "metadata": {
        "id": "GwhWg9vDcIT-"
      },
      "source": [
        "plt.figure(figsize=(8,8))\n",
        "\n",
        "for i in range(len(index_min[-1,:])):\n",
        "  plt.subplot(4, 4, i+1)\n",
        "  plt.imshow(test_images[index_min[-1,i],:,:,0], cmap='gray')\n",
        "  plt.axis('off')\n",
        "plt.show()"
      ],
      "execution_count": null,
      "outputs": []
    },
    {
      "cell_type": "code",
      "metadata": {
        "id": "XGPYDESnZiPm"
      },
      "source": [
        "plt.figure(figsize=(8,8))\n",
        "\n",
        "for i in range(t.saved_predictions.shape[1]):\n",
        "  plt.subplot(4, 4, i+1)\n",
        "  plt.imshow(t.saved_predictions[-1,i,:,:,0], cmap='gray')\n",
        "  plt.axis('off')\n",
        "plt.show()"
      ],
      "execution_count": null,
      "outputs": []
    },
    {
      "cell_type": "markdown",
      "metadata": {
        "id": "A7mhbbuyLAxq"
      },
      "source": [
        "2D sketches of distances between generated images"
      ]
    },
    {
      "cell_type": "code",
      "metadata": {
        "id": "M-L67rm3ITJa"
      },
      "source": [
        "phi = tf.random.normal([2,noise_dim])\n",
        "print(phi.shape)"
      ],
      "execution_count": null,
      "outputs": []
    },
    {
      "cell_type": "code",
      "metadata": {
        "id": "w1w2Bxz1MQLe"
      },
      "source": [
        "# Get 2D vectors for each generated image from the seed matrix\n",
        "\n",
        "generated_pts = np.array([[]], dtype=float)\n",
        "\n",
        "for i in range(num_examples_to_generate):\n",
        "  generated_pts = np.append(generated_pts, np.matmul(phi,seed[i,:]))\n",
        "\n",
        "generated_pts = generated_pts.reshape((num_examples_to_generate, 2))\n",
        "generated_pts = generated_pts.transpose()\n",
        "\n",
        "lbl = np.array([str(i) for i in labels[-1,:]])"
      ],
      "execution_count": null,
      "outputs": []
    },
    {
      "cell_type": "code",
      "metadata": {
        "id": "ambwmxtcQHJ_"
      },
      "source": [
        "plt.plot(generated_pts[0], generated_pts[1], 'o')"
      ],
      "execution_count": null,
      "outputs": []
    },
    {
      "cell_type": "code",
      "metadata": {
        "id": "wGt0AYiRkWbc"
      },
      "source": [
        "mymarkers = ['ro', 'bo', 'b.', 'rx', 'b+', 'bv', 'b,', 'b<', 'b>', 'bs']\n",
        "for j in range(16):\n",
        "  plt.plot(generated_pts[0][j], generated_pts[1][j], mymarkers[int(lbl[j])])\n",
        "plt.legend([str(i) for i in labels[-1,:]], bbox_to_anchor=(1.3, 1))"
      ],
      "execution_count": null,
      "outputs": []
    },
    {
      "cell_type": "code",
      "metadata": {
        "id": "IHv8TZ3xqJII"
      },
      "source": [
        "# Visualize what is happening between two latent vectors (segment formed by z_1 and z_2)\n",
        "\n",
        "r_index = random.sample(range(seed.shape[0]),2)\n",
        "print(r_index)"
      ],
      "execution_count": null,
      "outputs": []
    },
    {
      "cell_type": "code",
      "metadata": {
        "id": "6t7RdRJ1upnb"
      },
      "source": [
        "z_1 = np.array(seed[r_index[0],:]).reshape((1,100))\n",
        "plt.imshow(generator(z_1)[0,:,:,0], cmap='gray')"
      ],
      "execution_count": null,
      "outputs": []
    },
    {
      "cell_type": "code",
      "metadata": {
        "id": "6sfR1-cturbL"
      },
      "source": [
        "z_2 = np.array(seed[r_index[1],:]).reshape((1,100))\n",
        "plt.imshow(generator(z_2)[0,:,:,0], cmap='gray')"
      ],
      "execution_count": null,
      "outputs": []
    },
    {
      "cell_type": "code",
      "metadata": {
        "id": "enbqnJwnvIl_"
      },
      "source": [
        "step = 1/100\n",
        "lbd = 0\n",
        "\n",
        "plt.figure(figsize=(10,10))\n",
        "for i in range(int(1/step)):\n",
        "  next_image = (1-lbd)*z_1 + lbd*z_2\n",
        "  plt.subplot(10, 10, i+1)\n",
        "  plt.imshow(generator(next_image)[0,:,:,0], cmap='gray')\n",
        "  lbd += step\n",
        "  plt.axis('off')\n",
        "plt.show()"
      ],
      "execution_count": null,
      "outputs": []
    },
    {
      "cell_type": "markdown",
      "metadata": {
        "id": "DjQ65t_3f8Z6"
      },
      "source": [
        "# Experimenting with sparse vectors"
      ]
    },
    {
      "cell_type": "markdown",
      "metadata": {
        "id": "9jZGuuVnzaoE"
      },
      "source": [
        "What happens when the latent random vector is sparse ?"
      ]
    },
    {
      "cell_type": "code",
      "metadata": {
        "id": "y6k3f5gazigw"
      },
      "source": [
        "p_list = np.random.permutation(seed.shape[1])\n",
        "s = 10\n",
        "support = p_list[:s]\n",
        "print(support)"
      ],
      "execution_count": null,
      "outputs": []
    },
    {
      "cell_type": "code",
      "metadata": {
        "id": "hwZN0c900iQ8"
      },
      "source": [
        "seed_2 = tf.random.normal([1, noise_dim])\n",
        "sparse_seed = np.array([seed_2[0,i]*(i in support) for i in range(noise_dim)], dtype=float)\n",
        "\n",
        "sparse_seed = sparse_seed.reshape((1,noise_dim))"
      ],
      "execution_count": null,
      "outputs": []
    },
    {
      "cell_type": "code",
      "metadata": {
        "id": "DhgeGiA66kp8"
      },
      "source": [
        "# Random Gaussian latent vector (not sparse)\n",
        "plt.imshow(generator(seed_2)[0, :, :, 0], cmap='gray')"
      ],
      "execution_count": null,
      "outputs": []
    },
    {
      "cell_type": "code",
      "metadata": {
        "id": "y0NotDdp6vAl"
      },
      "source": [
        "# Random s-sparse latent vector\n",
        "plt.imshow(generator(sparse_seed)[0, :, :, 0], cmap='gray')"
      ],
      "execution_count": null,
      "outputs": []
    },
    {
      "cell_type": "markdown",
      "metadata": {
        "id": "sTC5Cj2jXfvP"
      },
      "source": [
        "Now with multiple latent vectors and their corresponding sparse vector :"
      ]
    },
    {
      "cell_type": "code",
      "metadata": {
        "id": "wXtCK9pxaPSW"
      },
      "source": [
        "seed_3 = tf.random.normal([num_examples_to_generate, noise_dim])"
      ],
      "execution_count": null,
      "outputs": []
    },
    {
      "cell_type": "code",
      "metadata": {
        "id": "NbOZK1R-aZfM"
      },
      "source": [
        "p_list_2 = np.array([np.random.permutation(seed_3.shape[1]) for i in range(seed_3.shape[0])])"
      ],
      "execution_count": null,
      "outputs": []
    },
    {
      "cell_type": "code",
      "metadata": {
        "id": "0T2RaQgZXeSU"
      },
      "source": [
        "support_2 = np.array([p_list_2[i][:s] for i in range(p_list_2.shape[0])])"
      ],
      "execution_count": null,
      "outputs": []
    },
    {
      "cell_type": "code",
      "metadata": {
        "id": "TOJXsrZRdEDE"
      },
      "source": [
        "sparse_seed_2 = np.array([[seed_3[j,i]*(i in support_2[j,:]) for i in range(noise_dim)] for j in range(seed_3.shape[0])], dtype=float)"
      ],
      "execution_count": null,
      "outputs": []
    },
    {
      "cell_type": "code",
      "metadata": {
        "id": "J802QBVXd5VB"
      },
      "source": [
        "plt.figure(figsize=(5,5))\n",
        "for i in range(seed_3.shape[0]):\n",
        "  plt.subplot(4, 4, i+1)\n",
        "  plt.imshow(generator(seed_3)[i, :, :, 0], cmap='gray')\n",
        "plt.show()"
      ],
      "execution_count": null,
      "outputs": []
    },
    {
      "cell_type": "code",
      "metadata": {
        "id": "xqpZKGozd8Gc"
      },
      "source": [
        "plt.figure(figsize=(5,5))\n",
        "for i in range(sparse_seed_2.shape[0]):\n",
        "  plt.subplot(4, 4, i+1)\n",
        "  plt.imshow(generator(sparse_seed_2)[i, :, :, 0], cmap='gray')\n",
        "plt.show()"
      ],
      "execution_count": null,
      "outputs": []
    },
    {
      "cell_type": "markdown",
      "metadata": {
        "id": "6P19HI3Agym0"
      },
      "source": [
        "# Training a generator with a sparse input vector"
      ]
    },
    {
      "cell_type": "code",
      "metadata": {
        "id": "9RyzPaUqg4_6"
      },
      "source": [
        "generator_2 = make_generator_model()\n",
        "discriminator_2 = make_discriminator_model()\n",
        "\n",
        "plt.imshow(generator_2(sparse_seed, training=False)[0, :, :, 0], cmap='gray')"
      ],
      "execution_count": null,
      "outputs": []
    },
    {
      "cell_type": "markdown",
      "metadata": {
        "id": "g_mfKlwEhtJF"
      },
      "source": [
        "The generated image is roughly the same as when the input vector wasn't sparse"
      ]
    },
    {
      "cell_type": "code",
      "metadata": {
        "id": "u2IKniDeh1xA"
      },
      "source": [],
      "execution_count": null,
      "outputs": []
    }
  ]
}