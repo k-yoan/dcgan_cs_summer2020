{
  "nbformat": 4,
  "nbformat_minor": 0,
  "metadata": {
    "accelerator": "GPU",
    "colab": {
      "name": "copy_dcgan.ipynb",
      "provenance": [],
      "private_outputs": true,
      "collapsed_sections": [],
      "include_colab_link": true
    },
    "kernelspec": {
      "display_name": "Python 3",
      "name": "python3"
    }
  },
  "cells": [
    {
      "cell_type": "markdown",
      "metadata": {
        "id": "view-in-github",
        "colab_type": "text"
      },
      "source": [
        "<a href=\"https://colab.research.google.com/github/k-yoan/summer2020project/blob/master/copy_dcgan.ipynb\" target=\"_parent\"><img src=\"https://colab.research.google.com/assets/colab-badge.svg\" alt=\"Open In Colab\"/></a>"
      ]
    },
    {
      "cell_type": "markdown",
      "metadata": {
        "colab_type": "text",
        "id": "_jQ1tEQCxwRx"
      },
      "source": [
        "##### Copyright 2019 The TensorFlow Authors."
      ]
    },
    {
      "cell_type": "code",
      "metadata": {
        "cellView": "form",
        "colab_type": "code",
        "id": "V_sgB_5dx1f1",
        "colab": {}
      },
      "source": [
        "#@title Licensed under the Apache License, Version 2.0 (the \"License\");\n",
        "# you may not use this file except in compliance with the License.\n",
        "# You may obtain a copy of the License at\n",
        "#\n",
        "# https://www.apache.org/licenses/LICENSE-2.0\n",
        "#\n",
        "# Unless required by applicable law or agreed to in writing, software\n",
        "# distributed under the License is distributed on an \"AS IS\" BASIS,\n",
        "# WITHOUT WARRANTIES OR CONDITIONS OF ANY KIND, either express or implied.\n",
        "# See the License for the specific language governing permissions and\n",
        "# limitations under the License."
      ],
      "execution_count": null,
      "outputs": []
    },
    {
      "cell_type": "markdown",
      "metadata": {
        "colab_type": "text",
        "id": "rF2x3qooyBTI"
      },
      "source": [
        "# Deep Convolutional Generative Adversarial Network"
      ]
    },
    {
      "cell_type": "markdown",
      "metadata": {
        "colab_type": "text",
        "id": "0TD5ZrvEMbhZ"
      },
      "source": [
        "<table class=\"tfo-notebook-buttons\" align=\"left\">\n",
        "  <td>\n",
        "    <a target=\"_blank\" href=\"https://www.tensorflow.org/tutorials/generative/dcgan\">\n",
        "    <img src=\"https://www.tensorflow.org/images/tf_logo_32px.png\" />\n",
        "    View on TensorFlow.org</a>\n",
        "  </td>\n",
        "  <td>\n",
        "    <a target=\"_blank\" href=\"https://colab.research.google.com/github/tensorflow/docs/blob/master/site/en/tutorials/generative/dcgan.ipynb\">\n",
        "    <img src=\"https://www.tensorflow.org/images/colab_logo_32px.png\" />\n",
        "    Run in Google Colab</a>\n",
        "  </td>\n",
        "  <td>\n",
        "    <a target=\"_blank\" href=\"https://github.com/tensorflow/docs/blob/master/site/en/tutorials/generative/dcgan.ipynb\">\n",
        "    <img src=\"https://www.tensorflow.org/images/GitHub-Mark-32px.png\" />\n",
        "    View source on GitHub</a>\n",
        "  </td>\n",
        "  <td>\n",
        "    <a href=\"https://storage.googleapis.com/tensorflow_docs/docs/site/en/tutorials/generative/dcgan.ipynb\"><img src=\"https://www.tensorflow.org/images/download_logo_32px.png\" />Download notebook</a>\n",
        "  </td>\n",
        "</table>"
      ]
    },
    {
      "cell_type": "markdown",
      "metadata": {
        "colab_type": "text",
        "id": "ITZuApL56Mny"
      },
      "source": [
        "This tutorial demonstrates how to generate images of handwritten digits using a [Deep Convolutional Generative Adversarial Network](https://arxiv.org/pdf/1511.06434.pdf) (DCGAN). The code is written using the [Keras Sequential API](https://www.tensorflow.org/guide/keras) with a `tf.GradientTape` training loop."
      ]
    },
    {
      "cell_type": "markdown",
      "metadata": {
        "colab_type": "text",
        "id": "2MbKJY38Puy9"
      },
      "source": [
        "## What are GANs?\n",
        "[Generative Adversarial Networks](https://arxiv.org/abs/1406.2661) (GANs) are one of the most interesting ideas in computer science today. Two models are trained simultaneously by an adversarial process. A *generator* (\"the artist\") learns to create images that look real, while a *discriminator* (\"the art critic\") learns to tell real images apart from fakes.\n",
        "\n",
        "![A diagram of a generator and discriminator](https://github.com/tensorflow/docs/blob/master/site/en/tutorials/generative/images/gan1.png?raw=1)\n",
        "\n",
        "During training, the *generator* progressively becomes better at creating images that look real, while the *discriminator* becomes better at telling them apart. The process reaches equilibrium when the *discriminator* can no longer distinguish real images from fakes.\n",
        "\n",
        "![A second diagram of a generator and discriminator](https://github.com/tensorflow/docs/blob/master/site/en/tutorials/generative/images/gan2.png?raw=1)\n",
        "\n",
        "This notebook demonstrates this process on the MNIST dataset. The following animation shows a series of images produced by the *generator* as it was trained for 50 epochs. The images begin as random noise, and increasingly resemble hand written digits over time.\n",
        "\n",
        "![sample output](https://tensorflow.org/images/gan/dcgan.gif)\n",
        "\n",
        "To learn more about GANs, we recommend MIT's [Intro to Deep Learning](http://introtodeeplearning.com/) course."
      ]
    },
    {
      "cell_type": "markdown",
      "metadata": {
        "colab_type": "text",
        "id": "e1_Y75QXJS6h"
      },
      "source": [
        "### Import TensorFlow and other libraries"
      ]
    },
    {
      "cell_type": "code",
      "metadata": {
        "colab_type": "code",
        "id": "WZKbyU2-AiY-",
        "colab": {}
      },
      "source": [
        "import tensorflow as tf"
      ],
      "execution_count": null,
      "outputs": []
    },
    {
      "cell_type": "code",
      "metadata": {
        "colab_type": "code",
        "id": "wx-zNbLqB4K8",
        "colab": {}
      },
      "source": [
        "tf.__version__"
      ],
      "execution_count": null,
      "outputs": []
    },
    {
      "cell_type": "code",
      "metadata": {
        "colab_type": "code",
        "id": "YzTlj4YdCip_",
        "colab": {}
      },
      "source": [
        "# To generate GIFs\n",
        "!pip install imageio"
      ],
      "execution_count": null,
      "outputs": []
    },
    {
      "cell_type": "code",
      "metadata": {
        "colab_type": "code",
        "id": "YfIk2es3hJEd",
        "colab": {}
      },
      "source": [
        "import glob\n",
        "import imageio\n",
        "import matplotlib.pyplot as plt\n",
        "import numpy as np\n",
        "import os\n",
        "import PIL\n",
        "from tensorflow.keras import layers\n",
        "import time\n",
        "\n",
        "import random\n",
        "\n",
        "from IPython import display"
      ],
      "execution_count": null,
      "outputs": []
    },
    {
      "cell_type": "markdown",
      "metadata": {
        "colab_type": "text",
        "id": "iYn4MdZnKCey"
      },
      "source": [
        "### Load and prepare the dataset\n",
        "\n",
        "You will use the MNIST dataset to train the generator and the discriminator. The generator will generate handwritten digits resembling the MNIST data."
      ]
    },
    {
      "cell_type": "code",
      "metadata": {
        "colab_type": "code",
        "id": "a4fYMGxGhrna",
        "colab": {}
      },
      "source": [
        "(train_images, train_labels), (test_images, test_labels) = tf.keras.datasets.mnist.load_data()"
      ],
      "execution_count": null,
      "outputs": []
    },
    {
      "cell_type": "code",
      "metadata": {
        "colab_type": "code",
        "id": "NFC2ghIdiZYE",
        "colab": {}
      },
      "source": [
        "train_images = train_images.reshape(train_images.shape[0], 28, 28, 1).astype('float32')\n",
        "train_images = (train_images - 127.5) / 127.5 # Normalize the images to [-1, 1]\n",
        "\n",
        "test_images = test_images.reshape(test_images.shape[0], 28, 28, 1).astype('float32')\n",
        "test_images = (test_images - 127.5) / 127.5"
      ],
      "execution_count": null,
      "outputs": []
    },
    {
      "cell_type": "code",
      "metadata": {
        "colab_type": "code",
        "id": "S4PIDhoDLbsZ",
        "colab": {}
      },
      "source": [
        "BUFFER_SIZE = 60000\n",
        "BATCH_SIZE = 256"
      ],
      "execution_count": null,
      "outputs": []
    },
    {
      "cell_type": "code",
      "metadata": {
        "colab_type": "code",
        "id": "-yKCCQOoJ7cn",
        "colab": {}
      },
      "source": [
        "# Batch and shuffle the data\n",
        "train_dataset = tf.data.Dataset.from_tensor_slices(train_images).shuffle(BUFFER_SIZE).batch(BATCH_SIZE)"
      ],
      "execution_count": null,
      "outputs": []
    },
    {
      "cell_type": "code",
      "metadata": {
        "id": "w2DXPFyeFge_",
        "colab_type": "code",
        "colab": {}
      },
      "source": [
        "print(test_labels[:100])\n",
        "print(test_images.shape)\n",
        "print(test_labels.shape)"
      ],
      "execution_count": null,
      "outputs": []
    },
    {
      "cell_type": "markdown",
      "metadata": {
        "colab_type": "text",
        "id": "THY-sZMiQ4UV"
      },
      "source": [
        "## Create the models\n",
        "\n",
        "Both the generator and discriminator are defined using the [Keras Sequential API](https://www.tensorflow.org/guide/keras#sequential_model)."
      ]
    },
    {
      "cell_type": "markdown",
      "metadata": {
        "colab_type": "text",
        "id": "-tEyxE-GMC48"
      },
      "source": [
        "### The Generator\n",
        "\n",
        "The generator uses `tf.keras.layers.Conv2DTranspose` (upsampling) layers to produce an image from a seed (random noise). Start with a `Dense` layer that takes this seed as input, then upsample several times until you reach the desired image size of 28x28x1. Notice the `tf.keras.layers.LeakyReLU` activation for each layer, except the output layer which uses tanh."
      ]
    },
    {
      "cell_type": "code",
      "metadata": {
        "colab_type": "code",
        "id": "6bpTcDqoLWjY",
        "colab": {}
      },
      "source": [
        "def make_generator_model():\n",
        "    model = tf.keras.Sequential()\n",
        "    model.add(layers.Dense(7*7*256, use_bias=False, input_shape=(100,)))\n",
        "    model.add(layers.BatchNormalization())\n",
        "    model.add(layers.LeakyReLU())\n",
        "\n",
        "    model.add(layers.Reshape((7, 7, 256)))\n",
        "    assert model.output_shape == (None, 7, 7, 256) # Note: None is the batch size\n",
        "\n",
        "    model.add(layers.Conv2DTranspose(128, (5, 5), strides=(1, 1), padding='same', use_bias=False))\n",
        "    assert model.output_shape == (None, 7, 7, 128)\n",
        "    model.add(layers.BatchNormalization())\n",
        "    model.add(layers.LeakyReLU())\n",
        "\n",
        "    model.add(layers.Conv2DTranspose(64, (5, 5), strides=(2, 2), padding='same', use_bias=False))\n",
        "    assert model.output_shape == (None, 14, 14, 64)\n",
        "    model.add(layers.BatchNormalization())\n",
        "    model.add(layers.LeakyReLU())\n",
        "\n",
        "    model.add(layers.Conv2DTranspose(1, (5, 5), strides=(2, 2), padding='same', use_bias=False, activation='tanh'))\n",
        "    assert model.output_shape == (None, 28, 28, 1)\n",
        "\n",
        "    return model"
      ],
      "execution_count": null,
      "outputs": []
    },
    {
      "cell_type": "markdown",
      "metadata": {
        "colab_type": "text",
        "id": "GyWgG09LCSJl"
      },
      "source": [
        "Use the (as yet untrained) generator to create an image."
      ]
    },
    {
      "cell_type": "code",
      "metadata": {
        "colab_type": "code",
        "id": "gl7jcC7TdPTG",
        "colab": {}
      },
      "source": [
        "generator = make_generator_model()\n",
        "\n",
        "noise = tf.random.normal([1, 100])\n",
        "generated_image = generator(noise, training=False)\n",
        "\n",
        "plt.imshow(generated_image[0, :, :, 0], cmap='gray')"
      ],
      "execution_count": null,
      "outputs": []
    },
    {
      "cell_type": "markdown",
      "metadata": {
        "colab_type": "text",
        "id": "D0IKnaCtg6WE"
      },
      "source": [
        "### The Discriminator\n",
        "\n",
        "The discriminator is a CNN-based image classifier."
      ]
    },
    {
      "cell_type": "code",
      "metadata": {
        "colab_type": "code",
        "id": "dw2tPLmk2pEP",
        "colab": {}
      },
      "source": [
        "def make_discriminator_model():\n",
        "    model = tf.keras.Sequential()\n",
        "    model.add(layers.Conv2D(64, (5, 5), strides=(2, 2), padding='same',\n",
        "                                     input_shape=[28, 28, 1]))\n",
        "    model.add(layers.LeakyReLU())\n",
        "    model.add(layers.Dropout(0.3))\n",
        "\n",
        "    model.add(layers.Conv2D(128, (5, 5), strides=(2, 2), padding='same'))\n",
        "    model.add(layers.LeakyReLU())\n",
        "    model.add(layers.Dropout(0.3))\n",
        "\n",
        "    model.add(layers.Flatten())\n",
        "    model.add(layers.Dense(1))\n",
        "\n",
        "    return model"
      ],
      "execution_count": null,
      "outputs": []
    },
    {
      "cell_type": "markdown",
      "metadata": {
        "colab_type": "text",
        "id": "QhPneagzCaQv"
      },
      "source": [
        "Use the (as yet untrained) discriminator to classify the generated images as real or fake. The model will be trained to output positive values for real images, and negative values for fake images."
      ]
    },
    {
      "cell_type": "code",
      "metadata": {
        "colab_type": "code",
        "id": "gDkA05NE6QMs",
        "colab": {}
      },
      "source": [
        "discriminator = make_discriminator_model()\n",
        "decision = discriminator(generated_image)\n",
        "print (decision)"
      ],
      "execution_count": null,
      "outputs": []
    },
    {
      "cell_type": "markdown",
      "metadata": {
        "colab_type": "text",
        "id": "0FMYgY_mPfTi"
      },
      "source": [
        "## Define the loss and optimizers\n",
        "\n",
        "Define loss functions and optimizers for both models.\n"
      ]
    },
    {
      "cell_type": "code",
      "metadata": {
        "colab_type": "code",
        "id": "psQfmXxYKU3X",
        "colab": {}
      },
      "source": [
        "# This method returns a helper function to compute cross entropy loss\n",
        "cross_entropy = tf.keras.losses.BinaryCrossentropy(from_logits=True)"
      ],
      "execution_count": null,
      "outputs": []
    },
    {
      "cell_type": "markdown",
      "metadata": {
        "colab_type": "text",
        "id": "PKY_iPSPNWoj"
      },
      "source": [
        "### Discriminator loss\n",
        "\n",
        "This method quantifies how well the discriminator is able to distinguish real images from fakes. It compares the discriminator's predictions on real images to an array of 1s, and the discriminator's predictions on fake (generated) images to an array of 0s."
      ]
    },
    {
      "cell_type": "code",
      "metadata": {
        "colab_type": "code",
        "id": "wkMNfBWlT-PV",
        "colab": {}
      },
      "source": [
        "def discriminator_loss(real_output, fake_output):\n",
        "    real_loss = cross_entropy(tf.ones_like(real_output), real_output)\n",
        "    fake_loss = cross_entropy(tf.zeros_like(fake_output), fake_output)\n",
        "    total_loss = real_loss + fake_loss\n",
        "    return total_loss"
      ],
      "execution_count": null,
      "outputs": []
    },
    {
      "cell_type": "markdown",
      "metadata": {
        "colab_type": "text",
        "id": "Jd-3GCUEiKtv"
      },
      "source": [
        "### Generator loss\n",
        "The generator's loss quantifies how well it was able to trick the discriminator. Intuitively, if the generator is performing well, the discriminator will classify the fake images as real (or 1). Here, we will compare the discriminators decisions on the generated images to an array of 1s."
      ]
    },
    {
      "cell_type": "code",
      "metadata": {
        "colab_type": "code",
        "id": "90BIcCKcDMxz",
        "colab": {}
      },
      "source": [
        "def generator_loss(fake_output):\n",
        "    return cross_entropy(tf.ones_like(fake_output), fake_output)"
      ],
      "execution_count": null,
      "outputs": []
    },
    {
      "cell_type": "markdown",
      "metadata": {
        "colab_type": "text",
        "id": "MgIc7i0th_Iu"
      },
      "source": [
        "The discriminator and the generator optimizers are different since we will train two networks separately."
      ]
    },
    {
      "cell_type": "code",
      "metadata": {
        "colab_type": "code",
        "id": "iWCn_PVdEJZ7",
        "colab": {}
      },
      "source": [
        "generator_optimizer = tf.keras.optimizers.Adam(1e-4)\n",
        "discriminator_optimizer = tf.keras.optimizers.Adam(1e-4)"
      ],
      "execution_count": null,
      "outputs": []
    },
    {
      "cell_type": "markdown",
      "metadata": {
        "colab_type": "text",
        "id": "mWtinsGDPJlV"
      },
      "source": [
        "### Save checkpoints\n",
        "This notebook also demonstrates how to save and restore models, which can be helpful in case a long running training task is interrupted."
      ]
    },
    {
      "cell_type": "code",
      "metadata": {
        "colab_type": "code",
        "id": "CA1w-7s2POEy",
        "colab": {}
      },
      "source": [
        "checkpoint_dir = './training_checkpoints'\n",
        "checkpoint_prefix = os.path.join(checkpoint_dir, \"ckpt\")\n",
        "checkpoint = tf.train.Checkpoint(generator_optimizer=generator_optimizer,\n",
        "                                 discriminator_optimizer=discriminator_optimizer,\n",
        "                                 generator=generator,\n",
        "                                 discriminator=discriminator)"
      ],
      "execution_count": null,
      "outputs": []
    },
    {
      "cell_type": "markdown",
      "metadata": {
        "colab_type": "text",
        "id": "Rw1fkAczTQYh"
      },
      "source": [
        "## Define the training loop\n"
      ]
    },
    {
      "cell_type": "code",
      "metadata": {
        "colab_type": "code",
        "id": "NS2GWywBbAWo",
        "colab": {}
      },
      "source": [
        "EPOCHS = 200\n",
        "noise_dim = 100\n",
        "num_examples_to_generate = 16\n",
        "\n",
        "# We will reuse this seed overtime (so it's easier)\n",
        "# to visualize progress in the animated GIF)\n",
        "seed = tf.random.normal([num_examples_to_generate, noise_dim])"
      ],
      "execution_count": null,
      "outputs": []
    },
    {
      "cell_type": "markdown",
      "metadata": {
        "colab_type": "text",
        "id": "jylSonrqSWfi"
      },
      "source": [
        "The training loop begins with generator receiving a random seed as input. That seed is used to produce an image. The discriminator is then used to classify real images (drawn from the training set) and fakes images (produced by the generator). The loss is calculated for each of these models, and the gradients are used to update the generator and discriminator."
      ]
    },
    {
      "cell_type": "code",
      "metadata": {
        "colab_type": "code",
        "id": "3t5ibNo05jCB",
        "colab": {}
      },
      "source": [
        "# Notice the use of `tf.function`\n",
        "# This annotation causes the function to be \"compiled\".\n",
        "@tf.function\n",
        "def train_step(images):\n",
        "    noise = tf.random.normal([BATCH_SIZE, noise_dim])\n",
        "\n",
        "    with tf.GradientTape() as gen_tape, tf.GradientTape() as disc_tape:\n",
        "      generated_images = generator(noise, training=True)\n",
        "\n",
        "      real_output = discriminator(images, training=True)\n",
        "      fake_output = discriminator(generated_images, training=True)\n",
        "\n",
        "      gen_loss = generator_loss(fake_output)\n",
        "      disc_loss = discriminator_loss(real_output, fake_output)\n",
        "\n",
        "    gradients_of_generator = gen_tape.gradient(gen_loss, generator.trainable_variables)\n",
        "    gradients_of_discriminator = disc_tape.gradient(disc_loss, discriminator.trainable_variables)\n",
        "\n",
        "    generator_optimizer.apply_gradients(zip(gradients_of_generator, generator.trainable_variables))\n",
        "    discriminator_optimizer.apply_gradients(zip(gradients_of_discriminator, discriminator.trainable_variables))"
      ],
      "execution_count": null,
      "outputs": []
    },
    {
      "cell_type": "code",
      "metadata": {
        "colab_type": "code",
        "id": "2M7LmLtGEMQJ",
        "cellView": "form",
        "colab": {}
      },
      "source": [
        "#@title Original train function\n",
        "def train(dataset, epochs):\n",
        "  for epoch in range(epochs):\n",
        "    start = time.time()\n",
        "\n",
        "    for image_batch in dataset:\n",
        "      train_step(image_batch)\n",
        "\n",
        "    # Produce images for the GIF as we go\n",
        "    display.clear_output(wait=True)\n",
        "    generate_and_save_images(generator,\n",
        "                             epoch + 1,\n",
        "                             seed)\n",
        "\n",
        "    # Save the model every 15 epochs\n",
        "    if (epoch + 1) % 15 == 0:\n",
        "      checkpoint.save(file_prefix = checkpoint_prefix)\n",
        "\n",
        "    print ('Time for epoch {} is {} sec'.format(epoch + 1, time.time()-start))\n",
        "\n",
        "  # Generate after the final epoch\n",
        "  display.clear_output(wait=True)\n",
        "  generate_and_save_images(generator,\n",
        "                           epochs,\n",
        "                           seed)"
      ],
      "execution_count": null,
      "outputs": []
    },
    {
      "cell_type": "markdown",
      "metadata": {
        "colab_type": "text",
        "id": "2aFF7Hk3XdeW"
      },
      "source": [
        "**Generate and save images**\n"
      ]
    },
    {
      "cell_type": "code",
      "metadata": {
        "colab_type": "code",
        "id": "RmdVsmvhPxyy",
        "cellView": "form",
        "colab": {}
      },
      "source": [
        "#@title Original generate_images function\n",
        "def generate_and_save_images(model, epoch, test_input):\n",
        "  # Notice `training` is set to False.\n",
        "  # This is so all layers run in inference mode (batchnorm).\n",
        "  predictions = model(test_input, training=False)\n",
        "\n",
        "  fig = plt.figure(figsize=(4,4))\n",
        "\n",
        "  for i in range(predictions.shape[0]): # The range is 16 (number of generated images in GIF)\n",
        "      plt.subplot(4, 4, i+1) # 4 rows, 4 columns, Index i+1\n",
        "      plt.imshow(predictions[i, :, :, 0] * 127.5 + 127.5, cmap='gray')\n",
        "      plt.axis('off')\n",
        "\n",
        "  plt.savefig('image_at_epoch_{:04d}.png'.format(epoch))\n",
        "  plt.show()\n"
      ],
      "execution_count": null,
      "outputs": []
    },
    {
      "cell_type": "code",
      "metadata": {
        "id": "3G5ptuZDu_1D",
        "colab_type": "code",
        "cellView": "form",
        "colab": {}
      },
      "source": [
        "#@title Modifications #1\n",
        "'''Run this cell instead of the two previous cells to apply modifications'''\n",
        "\n",
        "class Training:\n",
        "  def train(self, dataset, epochs):\n",
        "    dist_for_plot = np.array([])\n",
        "    for epoch in range(epochs):\n",
        "      start = time.time()\n",
        "\n",
        "      for image_batch in dataset:\n",
        "        train_step(image_batch)\n",
        "\n",
        "      # Produce images for the GIF as we go\n",
        "      display.clear_output(wait=True)\n",
        "      self.generate_and_save_images(generator,\n",
        "                              epoch + 1,\n",
        "                              seed)\n",
        "\n",
        "      # Save the model every 10 epochs\n",
        "      if (epoch + 1) % 10 == 0:\n",
        "        checkpoint.save(file_prefix = checkpoint_prefix)\n",
        "\n",
        "      print ('Time for epoch {} is {} sec'.format(epoch + 1, time.time()-start))\n",
        "\n",
        "      # Store the mean minimum distance for each epoch\n",
        "      dist_for_plot = np.append(dist_for_plot, self.mean_min_dist)\n",
        "\n",
        "    # Generate after the final epoch\n",
        "    display.clear_output(wait=True)\n",
        "    self.generate_and_save_images(generator,\n",
        "                            epochs,\n",
        "                            seed)\n",
        "    \n",
        "    # Final plot\n",
        "    plt.plot(range(epochs), dist_for_plot)\n",
        "  \n",
        "  \n",
        "  def generate_and_save_images(self, model, epoch, test_input):\n",
        "    # Notice `training` is set to False.\n",
        "    # This is so all layers run in inference mode (batchnorm).\n",
        "    predictions = model(test_input, training=False)\n",
        "\n",
        "    fig = plt.figure(figsize=(4,4))\n",
        "\n",
        "    for i in range(predictions.shape[0]): # The range is 16 (number of generated images in GIF)\n",
        "        plt.subplot(4, 4, i+1) # 4 rows, 4 columns, Index i+1\n",
        "        plt.imshow(predictions[i, :, :, 0] * 127.5 + 127.5, cmap='gray')\n",
        "        plt.axis('off')\n",
        "\n",
        "    plt.savefig('image_at_epoch_{:04d}.png'.format(epoch))\n",
        "    plt.show()\n",
        "\n",
        "    # Modifications\n",
        "    min_dist = np.array([], dtype=float)\n",
        "    for j in range(predictions.shape[0]):\n",
        "      dist = np.array([], dtype=float)\n",
        "      for k in range(test_images.shape[0]):\n",
        "        dist = np.append(dist, np.linalg.norm(predictions[j, :, :, 0] - test_images[k, :, :, 0]))\n",
        "      min_dist = np.append(min_dist, np.amin(dist)) # Storing the minimum distance in an array\n",
        "    \n",
        "    self.mean_min_dist = np.mean(min_dist) # Use mean of 16 minimum distances to do 1 plot instead of 16"
      ],
      "execution_count": null,
      "outputs": []
    },
    {
      "cell_type": "code",
      "metadata": {
        "id": "U7Hr2kgif2gX",
        "colab_type": "code",
        "cellView": "code",
        "colab": {}
      },
      "source": [
        "#@title Modifications #2\n",
        "'''Run this cell instead of the two previous cells to apply modifications'''\n",
        "\n",
        "class Training:\n",
        "  def train(self, dataset, epochs):\n",
        "    self.saved_predictions = np.array([], dtype=float)\n",
        "    for epoch in range(epochs):\n",
        "      start = time.time()\n",
        "\n",
        "      for image_batch in dataset:\n",
        "        train_step(image_batch)\n",
        "\n",
        "      # Produce images for the GIF as we go\n",
        "      display.clear_output(wait=True)\n",
        "      self.generate_and_save_images(generator,\n",
        "                              epoch + 1,\n",
        "                              seed)\n",
        "\n",
        "      # Save the model every 10 epochs\n",
        "      if (epoch + 1) % 10 == 0:\n",
        "        checkpoint.save(file_prefix = checkpoint_prefix)\n",
        "\n",
        "      print ('Time for epoch {} is {} sec'.format(epoch + 1, time.time()-start))\n",
        "\n",
        "    # Generate after the final epoch\n",
        "    display.clear_output(wait=True)\n",
        "    self.generate_and_save_images(generator,\n",
        "                            epochs,\n",
        "                            seed)\n",
        "  \n",
        "  \n",
        "  def generate_and_save_images(self, model, epoch, test_input):\n",
        "    # Notice `training` is set to False.\n",
        "    # This is so all layers run in inference mode (batchnorm).\n",
        "    predictions = model(test_input, training=False)\n",
        "    self.saved_predictions = np.append(self.saved_predictions, predictions)\n",
        "    \n",
        "    fig = plt.figure(figsize=(4,4))\n",
        "\n",
        "    for i in range(predictions.shape[0]): # The range is 16 (number of generated images in GIF)\n",
        "        plt.subplot(4, 4, i+1) # 4 rows, 4 columns, Index i+1\n",
        "        plt.imshow(predictions[i, :, :, 0] * 127.5 + 127.5, cmap='gray')\n",
        "        plt.axis('off')\n",
        "\n",
        "    plt.savefig('image_at_epoch_{:04d}.png'.format(epoch))\n",
        "    plt.show()\n"
      ],
      "execution_count": null,
      "outputs": []
    },
    {
      "cell_type": "markdown",
      "metadata": {
        "colab_type": "text",
        "id": "dZrd4CdjR-Fp"
      },
      "source": [
        "## Train the model\n",
        "Call the `train()` method defined above to train the generator and discriminator simultaneously. Note, training GANs can be tricky. It's important that the generator and discriminator do not overpower each other (e.g., that they train at a similar rate).\n",
        "\n",
        "At the beginning of the training, the generated images look like random noise. As training progresses, the generated digits will look increasingly real. After about 50 epochs, they resemble MNIST digits. This may take about one minute / epoch with the default settings on Colab."
      ]
    },
    {
      "cell_type": "code",
      "metadata": {
        "colab_type": "code",
        "id": "Ly3UN0SLLY2l",
        "colab": {}
      },
      "source": [
        "train(train_dataset, EPOCHS)"
      ],
      "execution_count": null,
      "outputs": []
    },
    {
      "cell_type": "code",
      "metadata": {
        "id": "4aSQA4Aif4uX",
        "colab_type": "code",
        "colab": {}
      },
      "source": [
        "'''Run the following cells to train with modifications'''\n",
        "t = Training()"
      ],
      "execution_count": null,
      "outputs": []
    },
    {
      "cell_type": "code",
      "metadata": {
        "id": "m5BVCREAeX_C",
        "colab_type": "code",
        "colab": {}
      },
      "source": [
        "t.train(train_dataset, EPOCHS)"
      ],
      "execution_count": null,
      "outputs": []
    },
    {
      "cell_type": "markdown",
      "metadata": {
        "colab_type": "text",
        "id": "rfM4YcPVPkNO"
      },
      "source": [
        "Restore the latest checkpoint."
      ]
    },
    {
      "cell_type": "code",
      "metadata": {
        "colab_type": "code",
        "id": "XhXsd0srPo8c",
        "colab": {}
      },
      "source": [
        "checkpoint.restore(tf.train.latest_checkpoint(checkpoint_dir))"
      ],
      "execution_count": null,
      "outputs": []
    },
    {
      "cell_type": "markdown",
      "metadata": {
        "colab_type": "text",
        "id": "P4M_vIbUi7c0"
      },
      "source": [
        "## Create a GIF\n"
      ]
    },
    {
      "cell_type": "code",
      "metadata": {
        "colab_type": "code",
        "id": "WfO5wCdclHGL",
        "colab": {}
      },
      "source": [
        "# Display a single image using the epoch number\n",
        "def display_image(epoch_no):\n",
        "  return PIL.Image.open('image_at_epoch_{:04d}.png'.format(epoch_no))"
      ],
      "execution_count": null,
      "outputs": []
    },
    {
      "cell_type": "code",
      "metadata": {
        "colab_type": "code",
        "id": "5x3q9_Oe5q0A",
        "colab": {}
      },
      "source": [
        "display_image(EPOCHS)"
      ],
      "execution_count": null,
      "outputs": []
    },
    {
      "cell_type": "markdown",
      "metadata": {
        "colab_type": "text",
        "id": "NywiH3nL8guF"
      },
      "source": [
        "Use `imageio` to create an animated gif using the images saved during training."
      ]
    },
    {
      "cell_type": "code",
      "metadata": {
        "colab_type": "code",
        "id": "IGKQgENQ8lEI",
        "colab": {}
      },
      "source": [
        "anim_file = 'dcgan_200epochs.gif'\n",
        "\n",
        "with imageio.get_writer(anim_file, mode='I') as writer:\n",
        "  filenames = glob.glob('image*.png')\n",
        "  filenames = sorted(filenames)\n",
        "  last = -1\n",
        "  for i,filename in enumerate(filenames):\n",
        "    frame = 2*(i**0.5)\n",
        "    if round(frame) > round(last):\n",
        "      last = frame\n",
        "    else:\n",
        "      continue\n",
        "    image = imageio.imread(filename)\n",
        "    writer.append_data(image)\n",
        "  image = imageio.imread(filename)\n",
        "  writer.append_data(image)\n",
        "\n",
        "import IPython\n",
        "if IPython.version_info > (6,2,0,''):\n",
        "  display.Image(filename=anim_file)"
      ],
      "execution_count": null,
      "outputs": []
    },
    {
      "cell_type": "markdown",
      "metadata": {
        "colab_type": "text",
        "id": "cGhC3-fMWSwl"
      },
      "source": [
        "If you're working in Colab you can download the animation with the code below:"
      ]
    },
    {
      "cell_type": "code",
      "metadata": {
        "colab_type": "code",
        "id": "uV0yiKpzNP1b",
        "colab": {}
      },
      "source": [
        "try:\n",
        "  from google.colab import files\n",
        "except ImportError:\n",
        "   pass\n",
        "else:\n",
        "  files.download(anim_file)\n",
        "  #files.download(checkpoint_dir)"
      ],
      "execution_count": null,
      "outputs": []
    },
    {
      "cell_type": "code",
      "metadata": {
        "id": "yqEOzAIt2yrH",
        "colab_type": "code",
        "colab": {}
      },
      "source": [
        "!zip -r /content/file.zip /content/training_checkpoints/"
      ],
      "execution_count": null,
      "outputs": []
    },
    {
      "cell_type": "code",
      "metadata": {
        "id": "5LLo9Lpy27Ax",
        "colab_type": "code",
        "colab": {}
      },
      "source": [
        "from google.colab import files\n",
        "files.download(\"/content/file.zip\")"
      ],
      "execution_count": null,
      "outputs": []
    },
    {
      "cell_type": "markdown",
      "metadata": {
        "colab_type": "text",
        "id": "k6qC-SbjK0yW"
      },
      "source": [
        "## Next steps\n"
      ]
    },
    {
      "cell_type": "markdown",
      "metadata": {
        "colab_type": "text",
        "id": "xjjkT9KAK6H7"
      },
      "source": [
        "This tutorial has shown the complete code necessary to write and train a GAN. As a next step, you might like to experiment with a different dataset, for example the Large-scale Celeb Faces Attributes (CelebA) dataset [available on Kaggle](https://www.kaggle.com/jessicali9530/celeba-dataset). To learn more about GANs we recommend the [NIPS 2016 Tutorial: Generative Adversarial Networks](https://arxiv.org/abs/1701.00160).\n"
      ]
    },
    {
      "cell_type": "markdown",
      "metadata": {
        "id": "wwu-VN014xIk",
        "colab_type": "text"
      },
      "source": [
        "# Further modifications for research project..."
      ]
    },
    {
      "cell_type": "code",
      "metadata": {
        "id": "aLtkpEQmNJLE",
        "colab_type": "code",
        "colab": {}
      },
      "source": [
        "print(t.saved_predictions.shape)"
      ],
      "execution_count": null,
      "outputs": []
    },
    {
      "cell_type": "code",
      "metadata": {
        "id": "qobVmeB3NtjQ",
        "colab_type": "code",
        "colab": {}
      },
      "source": [
        "t.saved_predictions = t.saved_predictions.reshape((EPOCHS+1, num_examples_to_generate,28,28,1))\n",
        "print(t.saved_predictions.shape)"
      ],
      "execution_count": null,
      "outputs": []
    },
    {
      "cell_type": "markdown",
      "metadata": {
        "id": "OvBiZmBkKXMF",
        "colab_type": "text"
      },
      "source": [
        "For each generated image, show the convergence every 5 epochs\n"
      ]
    },
    {
      "cell_type": "code",
      "metadata": {
        "id": "JuVsN6Dh7tje",
        "colab_type": "code",
        "colab": {}
      },
      "source": [
        "min_dist = np.array([[]], dtype=float)\n",
        "labels = np.array([], dtype=int) # To get the labels of the minimizers\n",
        "index_min = np.array([], dtype=int) # To get the exact positions of the minimizers in the dataset\n",
        "for round in range(t.saved_predictions.shape[0] - 1):\n",
        "      if (round + 1) % 5 == 0:\n",
        "        for j in range(t.saved_predictions.shape[1]):\n",
        "          dist = np.array([], dtype=float)\n",
        "          for k in range(test_images.shape[0]):\n",
        "            dist = np.append(dist, np.linalg.norm(t.saved_predictions[round, j, :, :, 0] - test_images[k, :, :, 0]))\n",
        "          labels = np.append(labels, test_labels[np.argmin(dist)])\n",
        "          index_min = np.append(index_min, np.argmin(dist))\n",
        "          min_dist = np.append(min_dist, np.amin(dist))\n",
        "min_dist = min_dist.reshape((int(EPOCHS/5), num_examples_to_generate))"
      ],
      "execution_count": null,
      "outputs": []
    },
    {
      "cell_type": "code",
      "metadata": {
        "id": "P2n_5xDS1Nog",
        "colab_type": "code",
        "colab": {}
      },
      "source": [
        "np.save('predictions_a.npy', t.saved_predictions)\n",
        "np.save('seed_a.npy', seed)\n",
        "np.save('mindist_a.npy', min_dist)"
      ],
      "execution_count": null,
      "outputs": []
    },
    {
      "cell_type": "code",
      "metadata": {
        "id": "2oSjk1O0Kie4",
        "colab_type": "code",
        "colab": {}
      },
      "source": [
        "# Plots for the entire training\n",
        "plt.figure(figsize=(12,12))\n",
        "for i in range(t.saved_predictions.shape[1]):\n",
        "  plt.subplot(4, 4, i+1, ylim=(min(min_dist.flatten()),max(min_dist.flatten())))\n",
        "  plt.plot([5*i+5 for i in range(int(EPOCHS/5))], min_dist[:,i])\n",
        "plt.show()"
      ],
      "execution_count": null,
      "outputs": []
    },
    {
      "cell_type": "code",
      "metadata": {
        "id": "gYf2X_RXiWJ3",
        "colab_type": "code",
        "colab": {}
      },
      "source": [
        "# Plots for first 50 epochs (if more than 50)\n",
        "plt.figure(figsize=(10,10))\n",
        "for i in range(t.saved_predictions.shape[1]):\n",
        "  plt.subplot(4, 4, i+1)\n",
        "  plt.plot([5*i+5 for i in range(int(50/5))], min_dist[:10,i])\n",
        "plt.show()"
      ],
      "execution_count": null,
      "outputs": []
    },
    {
      "cell_type": "code",
      "metadata": {
        "id": "ppqzgOQoUxDq",
        "colab_type": "code",
        "colab": {}
      },
      "source": [
        "labels = labels.reshape((int(EPOCHS/5),16))\n",
        "print(labels[-1,:]) # The numbers/labels to which the generated images are closest to\n",
        "display_image(EPOCHS) "
      ],
      "execution_count": null,
      "outputs": []
    },
    {
      "cell_type": "markdown",
      "metadata": {
        "id": "7wakoTu1K63S",
        "colab_type": "text"
      },
      "source": [
        "Plot minimizers at final epoch"
      ]
    },
    {
      "cell_type": "code",
      "metadata": {
        "id": "uBXJf1s_IMWt",
        "colab_type": "code",
        "colab": {}
      },
      "source": [
        "print(index_min)\n",
        "print(index_min.shape)"
      ],
      "execution_count": null,
      "outputs": []
    },
    {
      "cell_type": "code",
      "metadata": {
        "id": "twZFdhWqTK1C",
        "colab_type": "code",
        "colab": {}
      },
      "source": [
        "index_min = index_min.reshape((int(EPOCHS/5),16))\n",
        "print(index_min[-1,:])"
      ],
      "execution_count": null,
      "outputs": []
    },
    {
      "cell_type": "code",
      "metadata": {
        "id": "GwhWg9vDcIT-",
        "colab_type": "code",
        "colab": {}
      },
      "source": [
        "# Show closest digits in test set\n",
        "plt.figure(figsize=(12,12))\n",
        "\n",
        "for i in range(len(index_min[-1,:])):\n",
        "  plt.subplot(4, 4, i+1)\n",
        "  plt.imshow(test_images[index_min[-1,i],:,:,0], cmap='gray')\n",
        "  plt.axis('off')\n",
        "plt.show()"
      ],
      "execution_count": null,
      "outputs": []
    },
    {
      "cell_type": "code",
      "metadata": {
        "id": "HvEoEe2yD3EU",
        "colab_type": "code",
        "colab": {}
      },
      "source": [
        "# Show generated images at final epoch, just different format\n",
        "plt.figure(figsize=(12,12))\n",
        "\n",
        "for i in range(t.saved_predictions.shape[1]):\n",
        "  plt.subplot(4, 4, i+1)\n",
        "  plt.imshow(t.saved_predictions[-1,i,:,:,0], cmap='gray')\n",
        "  plt.axis('off')\n",
        "plt.show()"
      ],
      "execution_count": null,
      "outputs": []
    },
    {
      "cell_type": "markdown",
      "metadata": {
        "id": "A7mhbbuyLAxq",
        "colab_type": "text"
      },
      "source": [
        "2D sketches of distances between generated images"
      ]
    },
    {
      "cell_type": "code",
      "metadata": {
        "id": "M-L67rm3ITJa",
        "colab_type": "code",
        "colab": {}
      },
      "source": [
        "phi = tf.random.normal([2,noise_dim])\n",
        "print(phi.shape)"
      ],
      "execution_count": null,
      "outputs": []
    },
    {
      "cell_type": "code",
      "metadata": {
        "id": "w1w2Bxz1MQLe",
        "colab_type": "code",
        "colab": {}
      },
      "source": [
        "# Get 2D vectors for each generated image from the seed matrix\n",
        "\n",
        "generated_pts = np.array([[]], dtype=float)\n",
        "\n",
        "for i in range(num_examples_to_generate):\n",
        "  generated_pts = np.append(generated_pts, np.matmul(phi,seed[i,:]))\n",
        "\n",
        "generated_pts = generated_pts.reshape((num_examples_to_generate, 2))\n",
        "generated_pts = generated_pts.transpose()\n",
        "lbl = np.array([str(i) for i in labels[-1,:]])\n",
        "print(lbl)"
      ],
      "execution_count": null,
      "outputs": []
    },
    {
      "cell_type": "code",
      "metadata": {
        "id": "ambwmxtcQHJ_",
        "colab_type": "code",
        "colab": {}
      },
      "source": [
        "plt.plot(generated_pts[0], generated_pts[1], 'o', label=lbl)"
      ],
      "execution_count": null,
      "outputs": []
    },
    {
      "cell_type": "code",
      "metadata": {
        "id": "cr7Ebnki4Nki",
        "colab_type": "code",
        "colab": {}
      },
      "source": [
        "# Run next cell, not this cell\n",
        "for marker,lab in zip(['o', 'ro', 'bo', 'x', '+', 'v', 'go', '<', '>', 's'], [str(i) for i in range(10)]):\n",
        "  for i,j in zip(lbl,range(16)):\n",
        "    if i == lab:\n",
        "      plt.plot(generated_pts[0][j], generated_pts[1][j], marker, label=\"marker='{0}'\".format(marker))\n",
        "plt.legend([str(i) for i in range(1,17)], bbox_to_anchor=(1.1, 1))"
      ],
      "execution_count": null,
      "outputs": []
    },
    {
      "cell_type": "code",
      "metadata": {
        "id": "Jm2lQV7BY9Jf",
        "colab_type": "code",
        "colab": {}
      },
      "source": [
        "mymarkers = ['ro', 'bo', 'b.', 'rx', 'b+', 'bv', 'b,', 'b<', 'b>', 'bs']\n",
        "for j in range(16):\n",
        "  plt.plot(generated_pts[0][j], generated_pts[1][j], mymarkers[int(lbl[j])])\n",
        "plt.legend([str(i) for i in range(1,17)], bbox_to_anchor=(1.1, 1))"
      ],
      "execution_count": null,
      "outputs": []
    },
    {
      "cell_type": "code",
      "metadata": {
        "id": "QWWN7keCFTOw",
        "colab_type": "code",
        "colab": {}
      },
      "source": [
        "mymarkers = ['ro', 'bo', 'b.', 'rx', 'b+', 'bv', 'b,', 'b<', 'b>', 'bs']\n",
        "for j in range(16):\n",
        "  plt.plot(generated_pts[0][j], generated_pts[1][j], mymarkers[int(lbl[j])])\n",
        "plt.legend([str(i) for i in labels[-1,:]], bbox_to_anchor=(1.3, 1))"
      ],
      "execution_count": null,
      "outputs": []
    },
    {
      "cell_type": "code",
      "metadata": {
        "id": "H2kAe8hhW7ML",
        "colab_type": "code",
        "colab": {}
      },
      "source": [
        "print(labels[-1,:])\n",
        "display_image(EPOCHS)"
      ],
      "execution_count": null,
      "outputs": []
    },
    {
      "cell_type": "code",
      "metadata": {
        "id": "IHv8TZ3xqJII",
        "colab_type": "code",
        "colab": {}
      },
      "source": [
        "# Visualize what is happening between two latent vectors (segment formed by z_1 and z_2)\n",
        "\n",
        "r_index = random.sample(range(seed.shape[0]),2)\n",
        "print(r_index)"
      ],
      "execution_count": null,
      "outputs": []
    },
    {
      "cell_type": "code",
      "metadata": {
        "id": "6t7RdRJ1upnb",
        "colab_type": "code",
        "colab": {}
      },
      "source": [
        "z_1 = np.array(seed[r_index[0],:]).reshape((1,100))\n",
        "plt.imshow(generator(z_1)[0,:,:,0], cmap='gray')"
      ],
      "execution_count": null,
      "outputs": []
    },
    {
      "cell_type": "code",
      "metadata": {
        "id": "6sfR1-cturbL",
        "colab_type": "code",
        "colab": {}
      },
      "source": [
        "z_2 = np.array(seed[r_index[1],:]).reshape((1,100))\n",
        "plt.imshow(generator(z_2)[0,:,:,0], cmap='gray')"
      ],
      "execution_count": null,
      "outputs": []
    },
    {
      "cell_type": "code",
      "metadata": {
        "id": "enbqnJwnvIl_",
        "colab_type": "code",
        "colab": {}
      },
      "source": [
        "step = 1/100\n",
        "lbd = 0\n",
        "\n",
        "plt.figure(figsize=(10,10))\n",
        "for i in range(int(1/step)):\n",
        "  next_image = (1-lbd)*z_1 + lbd*z_2\n",
        "  plt.subplot(10, 10, i+1)\n",
        "  plt.imshow(generator(next_image)[0,:,:,0], cmap='gray')\n",
        "  lbd += step\n",
        "  plt.axis('off')\n",
        "plt.show()"
      ],
      "execution_count": null,
      "outputs": []
    },
    {
      "cell_type": "code",
      "metadata": {
        "id": "D8JDhFo0Sc6b",
        "colab_type": "code",
        "colab": {}
      },
      "source": [
        "# Other examples\n",
        "z_vectors = np.array(tf.random.normal([6,noise_dim]))"
      ],
      "execution_count": null,
      "outputs": []
    },
    {
      "cell_type": "code",
      "metadata": {
        "id": "5S2UeWwkKiaL",
        "colab_type": "code",
        "colab": {}
      },
      "source": [
        "for i in range(int(len(z_vectors)/2)):\n",
        "  lbd = 0\n",
        "\n",
        "  plt.figure(figsize=(10,10))\n",
        "  for j in range(int(1/step)):\n",
        "    next_image = (1-lbd)*z_vectors[2*i,:].reshape((1,100)) + lbd*z_vectors[2*i+1,:].reshape((1,100))\n",
        "    plt.subplot(10, 10, j+1)\n",
        "    plt.imshow(generator(next_image)[0,:,:,0], cmap='gray')\n",
        "    lbd += step\n",
        "    plt.axis('off')\n",
        "  plt.show()"
      ],
      "execution_count": null,
      "outputs": []
    },
    {
      "cell_type": "markdown",
      "metadata": {
        "id": "DjQ65t_3f8Z6",
        "colab_type": "text"
      },
      "source": [
        "# Experimenting with sparse vectors"
      ]
    },
    {
      "cell_type": "markdown",
      "metadata": {
        "id": "9jZGuuVnzaoE",
        "colab_type": "text"
      },
      "source": [
        "What happens when the latent random vector is sparse ?"
      ]
    },
    {
      "cell_type": "code",
      "metadata": {
        "id": "y6k3f5gazigw",
        "colab_type": "code",
        "colab": {}
      },
      "source": [
        "p_list = np.random.permutation(seed.shape[1])\n",
        "s = 10\n",
        "support = p_list[:s]\n",
        "print(support)"
      ],
      "execution_count": null,
      "outputs": []
    },
    {
      "cell_type": "code",
      "metadata": {
        "id": "hwZN0c900iQ8",
        "colab_type": "code",
        "colab": {}
      },
      "source": [
        "seed_2 = tf.random.normal([1, noise_dim])\n",
        "sparse_seed = np.array([seed_2[0,i]*(i in support) for i in range(noise_dim)], dtype=float)\n",
        "\n",
        "sparse_seed = sparse_seed.reshape((1,noise_dim))"
      ],
      "execution_count": null,
      "outputs": []
    },
    {
      "cell_type": "code",
      "metadata": {
        "id": "DhgeGiA66kp8",
        "colab_type": "code",
        "colab": {}
      },
      "source": [
        "# Random Gaussian latent vector (not sparse)\n",
        "plt.imshow(generator(seed_2)[0, :, :, 0], cmap='gray')"
      ],
      "execution_count": null,
      "outputs": []
    },
    {
      "cell_type": "code",
      "metadata": {
        "id": "y0NotDdp6vAl",
        "colab_type": "code",
        "colab": {}
      },
      "source": [
        "# Random s-sparse latent vector\n",
        "plt.imshow(generator(sparse_seed)[0, :, :, 0], cmap='gray')"
      ],
      "execution_count": null,
      "outputs": []
    },
    {
      "cell_type": "markdown",
      "metadata": {
        "id": "sTC5Cj2jXfvP",
        "colab_type": "text"
      },
      "source": [
        "Now with multiple latent vectors and their corresponding sparse vector :"
      ]
    },
    {
      "cell_type": "code",
      "metadata": {
        "id": "wXtCK9pxaPSW",
        "colab_type": "code",
        "colab": {}
      },
      "source": [
        "seed_3 = tf.random.normal([num_examples_to_generate, noise_dim])"
      ],
      "execution_count": null,
      "outputs": []
    },
    {
      "cell_type": "code",
      "metadata": {
        "id": "NbOZK1R-aZfM",
        "colab_type": "code",
        "colab": {}
      },
      "source": [
        "p_list_2 = np.array([np.random.permutation(seed_3.shape[1]) for i in range(seed_3.shape[0])])"
      ],
      "execution_count": null,
      "outputs": []
    },
    {
      "cell_type": "code",
      "metadata": {
        "id": "0T2RaQgZXeSU",
        "colab_type": "code",
        "colab": {}
      },
      "source": [
        "support_2 = np.array([p_list_2[i][:s] for i in range(p_list_2.shape[0])])"
      ],
      "execution_count": null,
      "outputs": []
    },
    {
      "cell_type": "code",
      "metadata": {
        "id": "TOJXsrZRdEDE",
        "colab_type": "code",
        "colab": {}
      },
      "source": [
        "sparse_seed_2 = np.array([[seed_3[j,i]*(i in support_2[j,:]) for i in range(noise_dim)] for j in range(seed_3.shape[0])], dtype=float)"
      ],
      "execution_count": null,
      "outputs": []
    },
    {
      "cell_type": "code",
      "metadata": {
        "id": "J802QBVXd5VB",
        "colab_type": "code",
        "colab": {}
      },
      "source": [
        "plt.figure(figsize=(5,5))\n",
        "for i in range(seed_3.shape[0]):\n",
        "  plt.subplot(4, 4, i+1)\n",
        "  plt.imshow(generator(seed_3)[i, :, :, 0], cmap='gray')\n",
        "plt.show()"
      ],
      "execution_count": null,
      "outputs": []
    },
    {
      "cell_type": "code",
      "metadata": {
        "id": "xqpZKGozd8Gc",
        "colab_type": "code",
        "colab": {}
      },
      "source": [
        "plt.figure(figsize=(5,5))\n",
        "for i in range(sparse_seed_2.shape[0]):\n",
        "  plt.subplot(4, 4, i+1)\n",
        "  plt.imshow(generator(sparse_seed_2)[i, :, :, 0], cmap='gray')\n",
        "plt.show()"
      ],
      "execution_count": null,
      "outputs": []
    },
    {
      "cell_type": "markdown",
      "metadata": {
        "id": "6P19HI3Agym0",
        "colab_type": "text"
      },
      "source": [
        "# Training a generator with a sparse input vector"
      ]
    },
    {
      "cell_type": "code",
      "metadata": {
        "id": "9RyzPaUqg4_6",
        "colab_type": "code",
        "colab": {}
      },
      "source": [
        "generator_2 = make_generator_model()\n",
        "discriminator_2 = make_discriminator_model()\n",
        "\n",
        "plt.imshow(generator_2(sparse_seed, training=False)[0, :, :, 0], cmap='gray')"
      ],
      "execution_count": null,
      "outputs": []
    },
    {
      "cell_type": "markdown",
      "metadata": {
        "id": "g_mfKlwEhtJF",
        "colab_type": "text"
      },
      "source": [
        "The generated image is roughly the same as when the input vector wasn't sparse"
      ]
    },
    {
      "cell_type": "code",
      "metadata": {
        "id": "u2IKniDeh1xA",
        "colab_type": "code",
        "colab": {}
      },
      "source": [
        ""
      ],
      "execution_count": null,
      "outputs": []
    }
  ]
}
